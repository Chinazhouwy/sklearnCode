{
 "cells": [
  {
   "cell_type": "markdown",
   "id": "3727fc24",
   "metadata": {},
   "source": [
    "## JQData"
   ]
  },
  {
   "cell_type": "code",
   "execution_count": 3,
   "id": "14af17e8",
   "metadata": {},
   "outputs": [
    {
     "name": "stdout",
     "output_type": "stream",
     "text": [
      "auth success \n"
     ]
    }
   ],
   "source": [
    "from jqdatasdk import *\n",
    "auth('17621158056','Zhouwy911911') #账号是申请时所填写的手机号；密码为聚宽官网登录密码"
   ]
  },
  {
   "cell_type": "code",
   "execution_count": 11,
   "id": "117c563d",
   "metadata": {},
   "outputs": [
    {
     "name": "stderr",
     "output_type": "stream",
     "text": [
      "/Users/chinazhouwy/opt/anaconda3/envs/learn_ai/lib/python3.10/site-packages/jqdatasdk/api.py:34: PanelObsoleteWarning: 当前环境 pandas 版本高于 0.25，get_price 与 get_fundamentals_continuously 接口的 panel 参数将固定为 False（0.25 及以上版本的 pandas 不再支持 panel，如使用该数据结构和相关函数请注意修改）\n",
      "  warnings.warn(PandasChecker.VERSION_NOTICE_MESSAGE, PanelObsoleteWarning)\n"
     ]
    }
   ],
   "source": [
    "df = get_price('000001.XSHE', \n",
    "               end_date='2021-05-30 14:00:00',\n",
    "               count=1000, \n",
    "               frequency='daily', \n",
    "               fields=['open','close','high','low','volume','money'])"
   ]
  },
  {
   "cell_type": "code",
   "execution_count": 12,
   "id": "df3068cf",
   "metadata": {},
   "outputs": [
    {
     "name": "stdout",
     "output_type": "stream",
     "text": [
      "             open  close   high    low      volume         money\n",
      "2017-04-20   8.34   8.36   8.38   8.33  46700866.0  3.900635e+08\n",
      "2017-04-21   8.36   8.41   8.42   8.34  34725324.0  2.911261e+08\n",
      "2017-04-24   8.41   8.37   8.42   8.33  42151181.0  3.529264e+08\n",
      "2017-04-25   8.37   8.43   8.44   8.37  40330450.0  3.392301e+08\n",
      "2017-04-26   8.43   8.42   8.44   8.40  40780109.0  3.433161e+08\n",
      "...           ...    ...    ...    ...         ...           ...\n",
      "2021-05-24  23.48  23.48  23.60  23.19  34393563.0  8.060922e+08\n",
      "2021-05-25  23.54  24.60  24.73  23.45  97237462.0  2.363146e+09\n",
      "2021-05-26  24.64  25.01  25.12  24.50  91926378.0  2.286540e+09\n",
      "2021-05-27  24.91  24.79  25.16  24.52  50409136.0  1.246712e+09\n",
      "2021-05-28  24.68  24.50  24.71  24.16  49240073.0  1.200523e+09\n",
      "\n",
      "[1000 rows x 6 columns]\n"
     ]
    }
   ],
   "source": [
    "print(df)"
   ]
  },
  {
   "cell_type": "code",
   "execution_count": 18,
   "id": "273065b7",
   "metadata": {},
   "outputs": [
    {
     "name": "stdout",
     "output_type": "stream",
     "text": [
      "<class 'pandas.core.frame.DataFrame'>\n"
     ]
    }
   ],
   "source": [
    "print(type(df))"
   ]
  },
  {
   "cell_type": "code",
   "execution_count": 27,
   "id": "1bbd4a72",
   "metadata": {},
   "outputs": [],
   "source": [
    "df['range'] = round(100 * (df['close'] - df['open'])/df['open'],2)"
   ]
  },
  {
   "cell_type": "code",
   "execution_count": 28,
   "id": "083b8ce9",
   "metadata": {},
   "outputs": [
    {
     "name": "stdout",
     "output_type": "stream",
     "text": [
      "             open  close   high    low      volume         money  range\n",
      "2017-04-20   8.34   8.36   8.38   8.33  46700866.0  3.900635e+08   0.24\n",
      "2017-04-21   8.36   8.41   8.42   8.34  34725324.0  2.911261e+08   0.60\n",
      "2017-04-24   8.41   8.37   8.42   8.33  42151181.0  3.529264e+08  -0.48\n",
      "2017-04-25   8.37   8.43   8.44   8.37  40330450.0  3.392301e+08   0.72\n",
      "2017-04-26   8.43   8.42   8.44   8.40  40780109.0  3.433161e+08  -0.12\n",
      "...           ...    ...    ...    ...         ...           ...    ...\n",
      "2021-05-24  23.48  23.48  23.60  23.19  34393563.0  8.060922e+08   0.00\n",
      "2021-05-25  23.54  24.60  24.73  23.45  97237462.0  2.363146e+09   4.50\n",
      "2021-05-26  24.64  25.01  25.12  24.50  91926378.0  2.286540e+09   1.50\n",
      "2021-05-27  24.91  24.79  25.16  24.52  50409136.0  1.246712e+09  -0.48\n",
      "2021-05-28  24.68  24.50  24.71  24.16  49240073.0  1.200523e+09  -0.73\n",
      "\n",
      "[1000 rows x 7 columns]\n"
     ]
    }
   ],
   "source": [
    "print(df)"
   ]
  },
  {
   "cell_type": "code",
   "execution_count": 13,
   "id": "7e767a77",
   "metadata": {},
   "outputs": [],
   "source": [
    "import pandas as pd"
   ]
  },
  {
   "cell_type": "code",
   "execution_count": 34,
   "id": "e5e55d5f",
   "metadata": {},
   "outputs": [],
   "source": [
    " df.to_csv('000001.XSHE.csv',index_label='Date');"
   ]
  },
  {
   "cell_type": "code",
   "execution_count": 36,
   "id": "77a87fc1",
   "metadata": {
    "scrolled": true
   },
   "outputs": [
    {
     "data": {
      "text/html": [
       "<div>\n",
       "<style scoped>\n",
       "    .dataframe tbody tr th:only-of-type {\n",
       "        vertical-align: middle;\n",
       "    }\n",
       "\n",
       "    .dataframe tbody tr th {\n",
       "        vertical-align: top;\n",
       "    }\n",
       "\n",
       "    .dataframe thead th {\n",
       "        text-align: right;\n",
       "    }\n",
       "</style>\n",
       "<table border=\"1\" class=\"dataframe\">\n",
       "  <thead>\n",
       "    <tr style=\"text-align: right;\">\n",
       "      <th></th>\n",
       "      <th>Date</th>\n",
       "      <th>open</th>\n",
       "      <th>close</th>\n",
       "      <th>high</th>\n",
       "      <th>low</th>\n",
       "      <th>volume</th>\n",
       "      <th>money</th>\n",
       "      <th>range</th>\n",
       "    </tr>\n",
       "  </thead>\n",
       "  <tbody>\n",
       "    <tr>\n",
       "      <th>0</th>\n",
       "      <td>2017-04-20</td>\n",
       "      <td>8.34</td>\n",
       "      <td>8.36</td>\n",
       "      <td>8.38</td>\n",
       "      <td>8.33</td>\n",
       "      <td>46700866.0</td>\n",
       "      <td>3.900635e+08</td>\n",
       "      <td>0.24</td>\n",
       "    </tr>\n",
       "    <tr>\n",
       "      <th>1</th>\n",
       "      <td>2017-04-21</td>\n",
       "      <td>8.36</td>\n",
       "      <td>8.41</td>\n",
       "      <td>8.42</td>\n",
       "      <td>8.34</td>\n",
       "      <td>34725324.0</td>\n",
       "      <td>2.911261e+08</td>\n",
       "      <td>0.60</td>\n",
       "    </tr>\n",
       "    <tr>\n",
       "      <th>2</th>\n",
       "      <td>2017-04-24</td>\n",
       "      <td>8.41</td>\n",
       "      <td>8.37</td>\n",
       "      <td>8.42</td>\n",
       "      <td>8.33</td>\n",
       "      <td>42151181.0</td>\n",
       "      <td>3.529264e+08</td>\n",
       "      <td>-0.48</td>\n",
       "    </tr>\n",
       "    <tr>\n",
       "      <th>3</th>\n",
       "      <td>2017-04-25</td>\n",
       "      <td>8.37</td>\n",
       "      <td>8.43</td>\n",
       "      <td>8.44</td>\n",
       "      <td>8.37</td>\n",
       "      <td>40330450.0</td>\n",
       "      <td>3.392301e+08</td>\n",
       "      <td>0.72</td>\n",
       "    </tr>\n",
       "    <tr>\n",
       "      <th>4</th>\n",
       "      <td>2017-04-26</td>\n",
       "      <td>8.43</td>\n",
       "      <td>8.42</td>\n",
       "      <td>8.44</td>\n",
       "      <td>8.40</td>\n",
       "      <td>40780109.0</td>\n",
       "      <td>3.433161e+08</td>\n",
       "      <td>-0.12</td>\n",
       "    </tr>\n",
       "  </tbody>\n",
       "</table>\n",
       "</div>"
      ],
      "text/plain": [
       "         Date  open  close  high   low      volume         money  range\n",
       "0  2017-04-20  8.34   8.36  8.38  8.33  46700866.0  3.900635e+08   0.24\n",
       "1  2017-04-21  8.36   8.41  8.42  8.34  34725324.0  2.911261e+08   0.60\n",
       "2  2017-04-24  8.41   8.37  8.42  8.33  42151181.0  3.529264e+08  -0.48\n",
       "3  2017-04-25  8.37   8.43  8.44  8.37  40330450.0  3.392301e+08   0.72\n",
       "4  2017-04-26  8.43   8.42  8.44  8.40  40780109.0  3.433161e+08  -0.12"
      ]
     },
     "execution_count": 36,
     "metadata": {},
     "output_type": "execute_result"
    }
   ],
   "source": [
    "data = pd.read_csv('000001.XSHE.csv')\n",
    "data.head()"
   ]
  },
  {
   "cell_type": "code",
   "execution_count": 44,
   "id": "2afeb896",
   "metadata": {},
   "outputs": [
    {
     "name": "stdout",
     "output_type": "stream",
     "text": [
      "      open  close   high    low      volume         money\n",
      "0     8.34   8.36   8.38   8.33  46700866.0  3.900635e+08\n",
      "1     8.36   8.41   8.42   8.34  34725324.0  2.911261e+08\n",
      "2     8.41   8.37   8.42   8.33  42151181.0  3.529264e+08\n",
      "3     8.37   8.43   8.44   8.37  40330450.0  3.392301e+08\n",
      "4     8.43   8.42   8.44   8.40  40780109.0  3.433161e+08\n",
      "..     ...    ...    ...    ...         ...           ...\n",
      "995  23.48  23.48  23.60  23.19  34393563.0  8.060922e+08\n",
      "996  23.54  24.60  24.73  23.45  97237462.0  2.363146e+09\n",
      "997  24.64  25.01  25.12  24.50  91926378.0  2.286540e+09\n",
      "998  24.91  24.79  25.16  24.52  50409136.0  1.246712e+09\n",
      "999  24.68  24.50  24.71  24.16  49240073.0  1.200523e+09\n",
      "\n",
      "[1000 rows x 6 columns]\n"
     ]
    }
   ],
   "source": [
    "x_multi = data.drop(['range','Date'],axis=1)\n",
    "print(x_multi)"
   ]
  },
  {
   "cell_type": "code",
   "execution_count": 41,
   "id": "2b05f475",
   "metadata": {},
   "outputs": [
    {
     "name": "stdout",
     "output_type": "stream",
     "text": [
      "0      0.24\n",
      "1      0.60\n",
      "2     -0.48\n",
      "3      0.72\n",
      "4     -0.12\n",
      "       ... \n",
      "995    0.00\n",
      "996    4.50\n",
      "997    1.50\n",
      "998   -0.48\n",
      "999   -0.73\n",
      "Name: range, Length: 1000, dtype: float64\n"
     ]
    }
   ],
   "source": [
    "y = data.loc[:,'range']\n",
    "print(y)"
   ]
  },
  {
   "cell_type": "code",
   "execution_count": 45,
   "id": "fbca2408",
   "metadata": {},
   "outputs": [
    {
     "data": {
      "text/html": [
       "<style>#sk-container-id-1 {color: black;background-color: white;}#sk-container-id-1 pre{padding: 0;}#sk-container-id-1 div.sk-toggleable {background-color: white;}#sk-container-id-1 label.sk-toggleable__label {cursor: pointer;display: block;width: 100%;margin-bottom: 0;padding: 0.3em;box-sizing: border-box;text-align: center;}#sk-container-id-1 label.sk-toggleable__label-arrow:before {content: \"▸\";float: left;margin-right: 0.25em;color: #696969;}#sk-container-id-1 label.sk-toggleable__label-arrow:hover:before {color: black;}#sk-container-id-1 div.sk-estimator:hover label.sk-toggleable__label-arrow:before {color: black;}#sk-container-id-1 div.sk-toggleable__content {max-height: 0;max-width: 0;overflow: hidden;text-align: left;background-color: #f0f8ff;}#sk-container-id-1 div.sk-toggleable__content pre {margin: 0.2em;color: black;border-radius: 0.25em;background-color: #f0f8ff;}#sk-container-id-1 input.sk-toggleable__control:checked~div.sk-toggleable__content {max-height: 200px;max-width: 100%;overflow: auto;}#sk-container-id-1 input.sk-toggleable__control:checked~label.sk-toggleable__label-arrow:before {content: \"▾\";}#sk-container-id-1 div.sk-estimator input.sk-toggleable__control:checked~label.sk-toggleable__label {background-color: #d4ebff;}#sk-container-id-1 div.sk-label input.sk-toggleable__control:checked~label.sk-toggleable__label {background-color: #d4ebff;}#sk-container-id-1 input.sk-hidden--visually {border: 0;clip: rect(1px 1px 1px 1px);clip: rect(1px, 1px, 1px, 1px);height: 1px;margin: -1px;overflow: hidden;padding: 0;position: absolute;width: 1px;}#sk-container-id-1 div.sk-estimator {font-family: monospace;background-color: #f0f8ff;border: 1px dotted black;border-radius: 0.25em;box-sizing: border-box;margin-bottom: 0.5em;}#sk-container-id-1 div.sk-estimator:hover {background-color: #d4ebff;}#sk-container-id-1 div.sk-parallel-item::after {content: \"\";width: 100%;border-bottom: 1px solid gray;flex-grow: 1;}#sk-container-id-1 div.sk-label:hover label.sk-toggleable__label {background-color: #d4ebff;}#sk-container-id-1 div.sk-serial::before {content: \"\";position: absolute;border-left: 1px solid gray;box-sizing: border-box;top: 0;bottom: 0;left: 50%;z-index: 0;}#sk-container-id-1 div.sk-serial {display: flex;flex-direction: column;align-items: center;background-color: white;padding-right: 0.2em;padding-left: 0.2em;position: relative;}#sk-container-id-1 div.sk-item {position: relative;z-index: 1;}#sk-container-id-1 div.sk-parallel {display: flex;align-items: stretch;justify-content: center;background-color: white;position: relative;}#sk-container-id-1 div.sk-item::before, #sk-container-id-1 div.sk-parallel-item::before {content: \"\";position: absolute;border-left: 1px solid gray;box-sizing: border-box;top: 0;bottom: 0;left: 50%;z-index: -1;}#sk-container-id-1 div.sk-parallel-item {display: flex;flex-direction: column;z-index: 1;position: relative;background-color: white;}#sk-container-id-1 div.sk-parallel-item:first-child::after {align-self: flex-end;width: 50%;}#sk-container-id-1 div.sk-parallel-item:last-child::after {align-self: flex-start;width: 50%;}#sk-container-id-1 div.sk-parallel-item:only-child::after {width: 0;}#sk-container-id-1 div.sk-dashed-wrapped {border: 1px dashed gray;margin: 0 0.4em 0.5em 0.4em;box-sizing: border-box;padding-bottom: 0.4em;background-color: white;}#sk-container-id-1 div.sk-label label {font-family: monospace;font-weight: bold;display: inline-block;line-height: 1.2em;}#sk-container-id-1 div.sk-label-container {text-align: center;}#sk-container-id-1 div.sk-container {/* jupyter's `normalize.less` sets `[hidden] { display: none; }` but bootstrap.min.css set `[hidden] { display: none !important; }` so we also need the `!important` here to be able to override the default hidden behavior on the sphinx rendered scikit-learn.org. See: https://github.com/scikit-learn/scikit-learn/issues/21755 */display: inline-block !important;position: relative;}#sk-container-id-1 div.sk-text-repr-fallback {display: none;}</style><div id=\"sk-container-id-1\" class=\"sk-top-container\"><div class=\"sk-text-repr-fallback\"><pre>LinearRegression()</pre><b>In a Jupyter environment, please rerun this cell to show the HTML representation or trust the notebook. <br />On GitHub, the HTML representation is unable to render, please try loading this page with nbviewer.org.</b></div><div class=\"sk-container\" hidden><div class=\"sk-item\"><div class=\"sk-estimator sk-toggleable\"><input class=\"sk-toggleable__control sk-hidden--visually\" id=\"sk-estimator-id-1\" type=\"checkbox\" checked><label for=\"sk-estimator-id-1\" class=\"sk-toggleable__label sk-toggleable__label-arrow\">LinearRegression</label><div class=\"sk-toggleable__content\"><pre>LinearRegression()</pre></div></div></div></div></div>"
      ],
      "text/plain": [
       "LinearRegression()"
      ]
     },
     "execution_count": 45,
     "metadata": {},
     "output_type": "execute_result"
    }
   ],
   "source": [
    "from sklearn.linear_model import LinearRegression\n",
    "LR_multi = LinearRegression()\n",
    "LR_multi.fit(x_multi,y)"
   ]
  },
  {
   "cell_type": "code",
   "execution_count": 72,
   "id": "d8d5eebd",
   "metadata": {},
   "outputs": [
    {
     "name": "stdout",
     "output_type": "stream",
     "text": [
      "      open  close   high    low      volume         money\n",
      "0     8.34   8.36   8.38   8.33  46700866.0  3.900635e+08\n",
      "1     8.36   8.41   8.42   8.34  34725324.0  2.911261e+08\n",
      "2     8.41   8.37   8.42   8.33  42151181.0  3.529264e+08\n",
      "3     8.37   8.43   8.44   8.37  40330450.0  3.392301e+08\n",
      "4     8.43   8.42   8.44   8.40  40780109.0  3.433161e+08\n",
      "..     ...    ...    ...    ...         ...           ...\n",
      "995  23.48  23.48  23.60  23.19  34393563.0  8.060922e+08\n",
      "996  23.54  24.60  24.73  23.45  97237462.0  2.363146e+09\n",
      "997  24.64  25.01  25.12  24.50  91926378.0  2.286540e+09\n",
      "998  24.91  24.79  25.16  24.52  50409136.0  1.246712e+09\n",
      "999  24.68  24.50  24.71  24.16  49240073.0  1.200523e+09\n",
      "\n",
      "[1000 rows x 6 columns]\n",
      "<class 'pandas.core.frame.DataFrame'>\n"
     ]
    }
   ],
   "source": [
    "print(x_multi)\n",
    "print(type(x_multi))\n",
    "\n",
    "y_predict_multi = LR_multi.predict(x_multi)\n",
    "# print(y_predict_multi)"
   ]
  },
  {
   "cell_type": "code",
   "execution_count": 48,
   "id": "93114d0d",
   "metadata": {},
   "outputs": [
    {
     "name": "stdout",
     "output_type": "stream",
     "text": [
      "0.27829483209245326 0.9254773869868289\n"
     ]
    }
   ],
   "source": [
    "from sklearn.metrics import mean_squared_error,r2_score\n",
    "MSE_multi = mean_squared_error(y,y_predict_multi)\n",
    "R2_multi = r2_score(y,y_predict_multi)\n",
    "print(MSE_multi,R2_multi)"
   ]
  },
  {
   "cell_type": "code",
   "execution_count": 63,
   "id": "cbf471a6",
   "metadata": {},
   "outputs": [
    {
     "name": "stdout",
     "output_type": "stream",
     "text": [
      "[-6.52245887e+00  6.54262249e+00  1.62174937e-02  8.32679836e-03\n",
      "  9.30144618e-09 -5.95697713e-10] -0.7149599380972194\n"
     ]
    }
   ],
   "source": [
    "# 斜率\n",
    "a = LR_multi.coef_\n",
    "# 截距\n",
    "b = LR_multi.intercept_\n",
    "print(a,b)"
   ]
  },
  {
   "cell_type": "code",
   "execution_count": 75,
   "id": "493a038e",
   "metadata": {},
   "outputs": [
    {
     "data": {
      "text/html": [
       "<div>\n",
       "<style scoped>\n",
       "    .dataframe tbody tr th:only-of-type {\n",
       "        vertical-align: middle;\n",
       "    }\n",
       "\n",
       "    .dataframe tbody tr th {\n",
       "        vertical-align: top;\n",
       "    }\n",
       "\n",
       "    .dataframe thead th {\n",
       "        text-align: right;\n",
       "    }\n",
       "</style>\n",
       "<table border=\"1\" class=\"dataframe\">\n",
       "  <thead>\n",
       "    <tr style=\"text-align: right;\">\n",
       "      <th></th>\n",
       "      <th>0</th>\n",
       "    </tr>\n",
       "  </thead>\n",
       "  <tbody>\n",
       "    <tr>\n",
       "      <th>0</th>\n",
       "      <td>2.468000e+01</td>\n",
       "    </tr>\n",
       "    <tr>\n",
       "      <th>1</th>\n",
       "      <td>2.450000e+01</td>\n",
       "    </tr>\n",
       "    <tr>\n",
       "      <th>2</th>\n",
       "      <td>2.471000e+01</td>\n",
       "    </tr>\n",
       "    <tr>\n",
       "      <th>3</th>\n",
       "      <td>2.416000e+01</td>\n",
       "    </tr>\n",
       "    <tr>\n",
       "      <th>4</th>\n",
       "      <td>4.924007e+07</td>\n",
       "    </tr>\n",
       "    <tr>\n",
       "      <th>5</th>\n",
       "      <td>1.200523e+09</td>\n",
       "    </tr>\n",
       "  </tbody>\n",
       "</table>\n",
       "</div>"
      ],
      "text/plain": [
       "              0\n",
       "0  2.468000e+01\n",
       "1  2.450000e+01\n",
       "2  2.471000e+01\n",
       "3  2.416000e+01\n",
       "4  4.924007e+07\n",
       "5  1.200523e+09"
      ]
     },
     "execution_count": 75,
     "metadata": {},
     "output_type": "execute_result"
    }
   ],
   "source": [
    "pd.DataFrame(np.array([24.68,24.50,24.71,24.16,49240073.0,1.200523e+09]).reshape(-1,1)) #字典\n",
    "# print(np.array([24.68,24.50,24.71,24.16,49240073.0,1.200523e+09]).reshape(-1,1))"
   ]
  },
  {
   "cell_type": "code",
   "execution_count": 77,
   "id": "c39dcf96",
   "metadata": {},
   "outputs": [
    {
     "name": "stdout",
     "output_type": "stream",
     "text": [
      "[-1.05022907]\n"
     ]
    },
    {
     "name": "stderr",
     "output_type": "stream",
     "text": [
      "/Users/chinazhouwy/opt/anaconda3/envs/learn_ai/lib/python3.10/site-packages/sklearn/base.py:450: UserWarning: X does not have valid feature names, but LinearRegression was fitted with feature names\n",
      "  warnings.warn(\n"
     ]
    }
   ],
   "source": [
    "import numpy as np\n",
    "y_predict_multi_tomorrow = LR_multi.predict([[24.68,24.50,24.71,24.16,49240073.0,1.200523e+09]])\n",
    "print(y_predict_multi_tomorrow)"
   ]
  },
  {
   "cell_type": "code",
   "execution_count": 61,
   "id": "2c63fc34",
   "metadata": {},
   "outputs": [
    {
     "data": {
      "text/plain": [
       "<matplotlib.collections.PathCollection at 0x7f86d04ab700>"
      ]
     },
     "execution_count": 61,
     "metadata": {},
     "output_type": "execute_result"
    },
    {
     "data": {
      "image/png": "[encoded data removed]",
      "text/plain": [
       "<Figure size 1080x1080 with 1 Axes>"
      ]
     },
     "metadata": {
      "needs_background": "light"
     },
     "output_type": "display_data"
    }
   ],
   "source": [
    "from matplotlib import pyplot as plt\n",
    "plt.figure(figsize=(15,15))\n",
    "plt.scatter(y,y_predict_multi,cmap='Red')"
   ]
  }
 ],
 "metadata": {
  "kernelspec": {
   "display_name": "Python 3 (ipykernel)",
   "language": "python",
   "name": "python3"
  },
  "language_info": {
   "codemirror_mode": {
    "name": "ipython",
    "version": 3
   },
   "file_extension": ".py",
   "mimetype": "text/x-python",
   "name": "python",
   "nbconvert_exporter": "python",
   "pygments_lexer": "ipython3",
   "version": "3.10.4"
  }
 },
 "nbformat": 4,
 "nbformat_minor": 5
}
