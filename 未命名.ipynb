{
 "cells": [
  {
   "cell_type": "code",
   "execution_count": 7,
   "id": "3e051de6",
   "metadata": {},
   "outputs": [],
   "source": [
    "import numpy as np;"
   ]
  },
  {
   "cell_type": "code",
   "execution_count": 10,
   "id": "f138e975",
   "metadata": {},
   "outputs": [],
   "source": [
    "import random;"
   ]
  },
  {
   "cell_type": "code",
   "execution_count": 9,
   "id": "c7f60090",
   "metadata": {},
   "outputs": [],
   "source": [
    "a = [random.uniform(100.0,200) for i in range(50)]"
   ]
  },
  {
   "cell_type": "code",
   "execution_count": 13,
   "id": "bf2a531d",
   "metadata": {},
   "outputs": [
    {
     "name": "stdout",
     "output_type": "stream",
     "text": [
      "[129.6544426512495, 192.39813145186488, 148.68785565454795, 168.64172865677673, 192.39874066086867, 178.638252486988, 132.14132657164242, 136.29829179120804, 198.1463028504278, 126.83840643558926, 168.47733258431143, 126.7332641658537, 194.12677168678624, 137.3397014235959, 168.52990409302112, 104.44585193213864, 165.6983991527618, 156.18501390350437, 110.46875441748209, 172.16580731145223, 151.39255506940287, 116.393838344165, 130.7526117517776, 100.47046988233001, 179.25314951021693, 126.15445477302339, 133.69915342896522, 180.46086099024507, 169.25920326908582, 103.70968156308439, 120.41516033779914, 190.59041276518718, 171.73641694901414, 171.2513474794182, 118.04430207797957, 186.69722047741146, 169.09965996804812, 113.22610225491687, 133.27170381936205, 102.27806997780702, 138.04064343470446, 113.85792582020909, 143.94896573342876, 189.0763499220863, 184.75779600153828, 162.97140054763292, 167.26057690415314, 139.9640414307928, 105.93424551334346, 192.9451661161125]\n"
     ]
    }
   ],
   "source": [
    "print (a)"
   ]
  },
  {
   "cell_type": "code",
   "execution_count": 1,
   "id": "baa43326",
   "metadata": {},
   "outputs": [],
   "source": [
    "import tushare as ts"
   ]
  },
  {
   "cell_type": "code",
   "execution_count": 2,
   "id": "3798bcbb",
   "metadata": {},
   "outputs": [
    {
     "name": "stdout",
     "output_type": "stream",
     "text": [
      "本接口即将停止更新，请尽快使用Pro版接口：https://tushare.pro/document/2\n"
     ]
    },
    {
     "data": {
      "text/html": [
       "<div>\n",
       "<style scoped>\n",
       "    .dataframe tbody tr th:only-of-type {\n",
       "        vertical-align: middle;\n",
       "    }\n",
       "\n",
       "    .dataframe tbody tr th {\n",
       "        vertical-align: top;\n",
       "    }\n",
       "\n",
       "    .dataframe thead th {\n",
       "        text-align: right;\n",
       "    }\n",
       "</style>\n",
       "<table border=\"1\" class=\"dataframe\">\n",
       "  <thead>\n",
       "    <tr style=\"text-align: right;\">\n",
       "      <th></th>\n",
       "      <th>date</th>\n",
       "      <th>open</th>\n",
       "      <th>close</th>\n",
       "      <th>high</th>\n",
       "      <th>low</th>\n",
       "      <th>volume</th>\n",
       "      <th>code</th>\n",
       "    </tr>\n",
       "  </thead>\n",
       "  <tbody>\n",
       "    <tr>\n",
       "      <th>0</th>\n",
       "      <td>2019-08-23</td>\n",
       "      <td>82.842</td>\n",
       "      <td>84.782</td>\n",
       "      <td>85.152</td>\n",
       "      <td>82.712</td>\n",
       "      <td>885689.0</td>\n",
       "      <td>601318</td>\n",
       "    </tr>\n",
       "    <tr>\n",
       "      <th>1</th>\n",
       "      <td>2019-08-26</td>\n",
       "      <td>83.192</td>\n",
       "      <td>82.392</td>\n",
       "      <td>83.492</td>\n",
       "      <td>82.042</td>\n",
       "      <td>990268.0</td>\n",
       "      <td>601318</td>\n",
       "    </tr>\n",
       "    <tr>\n",
       "      <th>2</th>\n",
       "      <td>2019-08-27</td>\n",
       "      <td>82.942</td>\n",
       "      <td>82.572</td>\n",
       "      <td>83.692</td>\n",
       "      <td>82.462</td>\n",
       "      <td>767827.0</td>\n",
       "      <td>601318</td>\n",
       "    </tr>\n",
       "    <tr>\n",
       "      <th>3</th>\n",
       "      <td>2019-08-28</td>\n",
       "      <td>82.502</td>\n",
       "      <td>81.792</td>\n",
       "      <td>82.812</td>\n",
       "      <td>81.742</td>\n",
       "      <td>516092.0</td>\n",
       "      <td>601318</td>\n",
       "    </tr>\n",
       "    <tr>\n",
       "      <th>4</th>\n",
       "      <td>2019-08-29</td>\n",
       "      <td>82.042</td>\n",
       "      <td>81.592</td>\n",
       "      <td>82.372</td>\n",
       "      <td>81.062</td>\n",
       "      <td>464332.0</td>\n",
       "      <td>601318</td>\n",
       "    </tr>\n",
       "    <tr>\n",
       "      <th>...</th>\n",
       "      <td>...</td>\n",
       "      <td>...</td>\n",
       "      <td>...</td>\n",
       "      <td>...</td>\n",
       "      <td>...</td>\n",
       "      <td>...</td>\n",
       "      <td>...</td>\n",
       "    </tr>\n",
       "    <tr>\n",
       "      <th>635</th>\n",
       "      <td>2022-04-11</td>\n",
       "      <td>48.910</td>\n",
       "      <td>47.620</td>\n",
       "      <td>48.980</td>\n",
       "      <td>47.520</td>\n",
       "      <td>506405.0</td>\n",
       "      <td>601318</td>\n",
       "    </tr>\n",
       "    <tr>\n",
       "      <th>636</th>\n",
       "      <td>2022-04-12</td>\n",
       "      <td>47.860</td>\n",
       "      <td>48.470</td>\n",
       "      <td>48.880</td>\n",
       "      <td>47.480</td>\n",
       "      <td>467396.0</td>\n",
       "      <td>601318</td>\n",
       "    </tr>\n",
       "    <tr>\n",
       "      <th>637</th>\n",
       "      <td>2022-04-13</td>\n",
       "      <td>48.250</td>\n",
       "      <td>47.820</td>\n",
       "      <td>48.380</td>\n",
       "      <td>47.680</td>\n",
       "      <td>317751.0</td>\n",
       "      <td>601318</td>\n",
       "    </tr>\n",
       "    <tr>\n",
       "      <th>638</th>\n",
       "      <td>2022-04-14</td>\n",
       "      <td>48.370</td>\n",
       "      <td>48.190</td>\n",
       "      <td>48.520</td>\n",
       "      <td>47.900</td>\n",
       "      <td>358849.0</td>\n",
       "      <td>601318</td>\n",
       "    </tr>\n",
       "    <tr>\n",
       "      <th>639</th>\n",
       "      <td>2022-04-15</td>\n",
       "      <td>48.000</td>\n",
       "      <td>48.300</td>\n",
       "      <td>48.740</td>\n",
       "      <td>47.900</td>\n",
       "      <td>314115.0</td>\n",
       "      <td>601318</td>\n",
       "    </tr>\n",
       "  </tbody>\n",
       "</table>\n",
       "<p>640 rows × 7 columns</p>\n",
       "</div>"
      ],
      "text/plain": [
       "           date    open   close    high     low    volume    code\n",
       "0    2019-08-23  82.842  84.782  85.152  82.712  885689.0  601318\n",
       "1    2019-08-26  83.192  82.392  83.492  82.042  990268.0  601318\n",
       "2    2019-08-27  82.942  82.572  83.692  82.462  767827.0  601318\n",
       "3    2019-08-28  82.502  81.792  82.812  81.742  516092.0  601318\n",
       "4    2019-08-29  82.042  81.592  82.372  81.062  464332.0  601318\n",
       "..          ...     ...     ...     ...     ...       ...     ...\n",
       "635  2022-04-11  48.910  47.620  48.980  47.520  506405.0  601318\n",
       "636  2022-04-12  47.860  48.470  48.880  47.480  467396.0  601318\n",
       "637  2022-04-13  48.250  47.820  48.380  47.680  317751.0  601318\n",
       "638  2022-04-14  48.370  48.190  48.520  47.900  358849.0  601318\n",
       "639  2022-04-15  48.000  48.300  48.740  47.900  314115.0  601318\n",
       "\n",
       "[640 rows x 7 columns]"
      ]
     },
     "execution_count": 2,
     "metadata": {},
     "output_type": "execute_result"
    }
   ],
   "source": [
    "ts.get_k_data(\"601318\")"
   ]
  }
 ],
 "metadata": {
  "kernelspec": {
   "display_name": "Python 3 (ipykernel)",
   "language": "python",
   "name": "python3"
  },
  "language_info": {
   "codemirror_mode": {
    "name": "ipython",
    "version": 3
   },
   "file_extension": ".py",
   "mimetype": "text/x-python",
   "name": "python",
   "nbconvert_exporter": "python",
   "pygments_lexer": "ipython3",
   "version": "3.9.7"
  }
 },
 "nbformat": 4,
 "nbformat_minor": 5
}
