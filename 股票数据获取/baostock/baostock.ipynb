{
 "cells": [
  {
   "cell_type": "code",
   "execution_count": 2,
   "metadata": {},
   "outputs": [
    {
     "name": "stdout",
     "output_type": "stream",
     "text": [
      "login success!\n",
      "login respond error_code:0\n",
      "login respond  error_msg:success\n",
      "query_history_k_data_plus respond error_code:0\n",
      "query_history_k_data_plus respond  error_msg:success\n",
      "           date       code     open     high      low    close preclose  \\\n",
      "0    2017-07-03  sh.600000  12.6400  12.6500  12.4700  12.5600  12.6500   \n",
      "1    2017-07-04  sh.600000  12.5500  12.5800  12.4100  12.5500  12.5600   \n",
      "2    2017-07-05  sh.600000  12.5000  12.6500  12.4700  12.6200  12.5500   \n",
      "3    2017-07-06  sh.600000  12.6200  12.7200  12.5100  12.6600  12.6200   \n",
      "4    2017-07-07  sh.600000  12.6200  12.6900  12.5500  12.6000  12.6600   \n",
      "..          ...        ...      ...      ...      ...      ...      ...   \n",
      "120  2017-12-25  sh.600000  12.6100  12.6800  12.5600  12.5900  12.6200   \n",
      "121  2017-12-26  sh.600000  12.5700  12.6600  12.5600  12.6400  12.5900   \n",
      "122  2017-12-27  sh.600000  12.6500  12.6600  12.5300  12.6200  12.6400   \n",
      "123  2017-12-28  sh.600000  12.6000  12.6600  12.5300  12.5400  12.6200   \n",
      "124  2017-12-29  sh.600000  12.5200  12.6200  12.5100  12.5900  12.5400   \n",
      "\n",
      "       volume          amount adjustflag      turn tradestatus     pctChg isST  \n",
      "0    38778949  486264672.0000          3  0.137985           1  -0.711456    0  \n",
      "1    36659128  458434432.0000          3  0.130442           1  -0.079620    0  \n",
      "2    26470507  332542464.0000          3  0.094188           1   0.557767    0  \n",
      "3    37414241  471582096.0000          3  0.133129           1   0.316957    0  \n",
      "4    24667294  311101536.0000          3  0.087772           1  -0.473929    0  \n",
      "..        ...             ...        ...       ...         ...        ...  ...  \n",
      "120  19306662  243553698.0000          3  0.068698           1  -0.237716    0  \n",
      "121  15225722  192219131.0000          3  0.054177           1   0.397142    0  \n",
      "122  32731881  412197987.0000          3  0.116468           1  -0.158231    0  \n",
      "123  23870824  300834017.0000          3  0.084938           1  -0.633914    0  \n",
      "124  16351826  205752875.0000          3  0.058184           1   0.398726    0  \n",
      "\n",
      "[125 rows x 14 columns]\n",
      "logout success!\n"
     ]
    },
    {
     "data": {
      "text/plain": [
       "<baostock.data.resultset.ResultData at 0x7fa788d17760>"
      ]
     },
     "execution_count": 2,
     "metadata": {},
     "output_type": "execute_result"
    }
   ],
   "source": [
    "import baostock as bs\n",
    "import pandas as pd\n",
    "\n",
    "#### 登陆系统 ####\n",
    "lg = bs.login()\n",
    "# 显示登陆返回信息\n",
    "print('login respond error_code:'+lg.error_code)\n",
    "print('login respond  error_msg:'+lg.error_msg)\n",
    "\n",
    "#### 获取沪深A股历史K线数据 ####\n",
    "# 详细指标参数，参见“历史行情指标参数”章节；“分钟线”参数与“日线”参数不同。“分钟线”不包含指数。\n",
    "# 分钟线指标：date,time,code,open,high,low,close,volume,amount,adjustflag\n",
    "# 周月线指标：date,code,open,high,low,close,volume,amount,adjustflag,turn,pctChg\n",
    "rs = bs.query_history_k_data_plus(\"sh.600000\",\n",
    "    \"date,code,open,high,low,close,preclose,volume,amount,adjustflag,turn,tradestatus,pctChg,isST\",\n",
    "    start_date='2017-07-01', end_date='2017-12-31',\n",
    "    frequency=\"d\", adjustflag=\"3\")\n",
    "print('query_history_k_data_plus respond error_code:'+rs.error_code)\n",
    "print('query_history_k_data_plus respond  error_msg:'+rs.error_msg)\n",
    "\n",
    "#### 打印结果集 ####\n",
    "data_list = []\n",
    "while (rs.error_code == '0') & rs.next():\n",
    "    # 获取一条记录，将记录合并在一起\n",
    "    data_list.append(rs.get_row_data())\n",
    "result = pd.DataFrame(data_list, columns=rs.fields)\n",
    "\n",
    "#### 结果集输出到csv文件 ####   \n",
    "result.to_csv(\"D:\\\\history_A_stock_k_data.csv\", index=False)\n",
    "print(result)\n",
    "\n",
    "#### 登出系统 ####\n",
    "bs.logout()"
   ]
  }
 ],
 "metadata": {
  "interpreter": {
   "hash": "5f7395a39ead5589de0707de4fa68aa7367263fb8067d34a00af93fde3dc777b"
  },
  "kernelspec": {
   "display_name": "Python 3.10.4 ('learn_ai')",
   "language": "python",
   "name": "python3"
  },
  "language_info": {
   "codemirror_mode": {
    "name": "ipython",
    "version": 3
   },
   "file_extension": ".py",
   "mimetype": "text/x-python",
   "name": "python",
   "nbconvert_exporter": "python",
   "pygments_lexer": "ipython3",
   "version": "3.10.4"
  },
  "orig_nbformat": 4
 },
 "nbformat": 4,
 "nbformat_minor": 2
}
