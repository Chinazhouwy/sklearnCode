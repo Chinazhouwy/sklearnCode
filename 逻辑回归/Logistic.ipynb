{
 "cells": [
  {
   "cell_type": "code",
   "execution_count": 8,
   "id": "cf1382e8",
   "metadata": {},
   "outputs": [],
   "source": [
    "import pandas as pd\n",
    "import numpy as np"
   ]
  },
  {
   "cell_type": "code",
   "execution_count": 9,
   "id": "3b71487d",
   "metadata": {},
   "outputs": [
    {
     "name": "stdout",
     "output_type": "stream",
     "text": [
      "        Exam1      Exam2  Pass\n",
      "0   34.623660  78.024693     0\n",
      "1   30.286711  43.894998     0\n",
      "2   35.847409  72.902198     0\n",
      "3   60.182599  86.308552     1\n",
      "4   79.032736  75.344376     1\n",
      "..        ...        ...   ...\n",
      "95  83.489163  48.380286     1\n",
      "96  42.261701  87.103851     1\n",
      "97  99.315009  68.775409     1\n",
      "98  55.340018  64.931938     1\n",
      "99  74.775893  89.529813     1\n",
      "\n",
      "[100 rows x 3 columns]\n"
     ]
    }
   ],
   "source": [
    "data = pd.read_csv('examdata.csv')\n",
    "# data.head()\n",
    "print(data)"
   ]
  },
  {
   "cell_type": "code",
   "execution_count": 10,
   "id": "137e5021",
   "metadata": {},
   "outputs": [
    {
     "data": {
      "text/plain": [
       "0     34.623660\n",
       "1     30.286711\n",
       "2     35.847409\n",
       "3     60.182599\n",
       "4     79.032736\n",
       "        ...    \n",
       "95    83.489163\n",
       "96    42.261701\n",
       "97    99.315009\n",
       "98    55.340018\n",
       "99    74.775893\n",
       "Name: Exam1, Length: 100, dtype: float64"
      ]
     },
     "execution_count": 10,
     "metadata": {},
     "output_type": "execute_result"
    }
   ],
   "source": [
    "data.loc[:,'Exam1']"
   ]
  },
  {
   "cell_type": "code",
   "execution_count": 11,
   "id": "717efddb",
   "metadata": {},
   "outputs": [
    {
     "data": {
      "text/html": [
       "<div>\n",
       "<style scoped>\n",
       "    .dataframe tbody tr th:only-of-type {\n",
       "        vertical-align: middle;\n",
       "    }\n",
       "\n",
       "    .dataframe tbody tr th {\n",
       "        vertical-align: top;\n",
       "    }\n",
       "\n",
       "    .dataframe thead th {\n",
       "        text-align: right;\n",
       "    }\n",
       "</style>\n",
       "<table border=\"1\" class=\"dataframe\">\n",
       "  <thead>\n",
       "    <tr style=\"text-align: right;\">\n",
       "      <th></th>\n",
       "      <th>Exam1</th>\n",
       "      <th>Pass</th>\n",
       "    </tr>\n",
       "  </thead>\n",
       "  <tbody>\n",
       "    <tr>\n",
       "      <th>1</th>\n",
       "      <td>30.286711</td>\n",
       "      <td>0</td>\n",
       "    </tr>\n",
       "    <tr>\n",
       "      <th>2</th>\n",
       "      <td>35.847409</td>\n",
       "      <td>0</td>\n",
       "    </tr>\n",
       "    <tr>\n",
       "      <th>3</th>\n",
       "      <td>60.182599</td>\n",
       "      <td>1</td>\n",
       "    </tr>\n",
       "    <tr>\n",
       "      <th>4</th>\n",
       "      <td>79.032736</td>\n",
       "      <td>1</td>\n",
       "    </tr>\n",
       "    <tr>\n",
       "      <th>5</th>\n",
       "      <td>45.083277</td>\n",
       "      <td>0</td>\n",
       "    </tr>\n",
       "  </tbody>\n",
       "</table>\n",
       "</div>"
      ],
      "text/plain": [
       "       Exam1  Pass\n",
       "1  30.286711     0\n",
       "2  35.847409     0\n",
       "3  60.182599     1\n",
       "4  79.032736     1\n",
       "5  45.083277     0"
      ]
     },
     "execution_count": 11,
     "metadata": {},
     "output_type": "execute_result"
    }
   ],
   "source": [
    "data.loc[1:5,['Exam1','Pass']]"
   ]
  },
  {
   "cell_type": "code",
   "execution_count": 12,
   "id": "2b48f4d3",
   "metadata": {},
   "outputs": [
    {
     "data": {
      "text/plain": [
       "0     34.623660\n",
       "1     30.286711\n",
       "2     35.847409\n",
       "3     60.182599\n",
       "4     79.032736\n",
       "        ...    \n",
       "95    83.489163\n",
       "96    42.261701\n",
       "97    99.315009\n",
       "98    55.340018\n",
       "99    74.775893\n",
       "Name: Exam1, Length: 100, dtype: float64"
      ]
     },
     "execution_count": 12,
     "metadata": {},
     "output_type": "execute_result"
    }
   ],
   "source": [
    "data.loc[:,'Exam1']"
   ]
  },
  {
   "cell_type": "code",
   "execution_count": 13,
   "id": "3a1e11a8",
   "metadata": {},
   "outputs": [
    {
     "name": "stdout",
     "output_type": "stream",
     "text": [
      "0     False\n",
      "1     False\n",
      "2     False\n",
      "3      True\n",
      "4      True\n",
      "      ...  \n",
      "95     True\n",
      "96     True\n",
      "97     True\n",
      "98     True\n",
      "99     True\n",
      "Name: Pass, Length: 100, dtype: bool\n"
     ]
    }
   ],
   "source": [
    "mask = data.loc[:,'Pass'] == 1\n",
    "print(mask)"
   ]
  },
  {
   "cell_type": "code",
   "execution_count": 14,
   "id": "5993381f",
   "metadata": {},
   "outputs": [
    {
     "data": {
      "image/png": "[encoded data removed]",
      "text/plain": [
       "<Figure size 432x288 with 1 Axes>"
      ]
     },
     "metadata": {
      "needs_background": "light"
     },
     "output_type": "display_data"
    }
   ],
   "source": [
    "# %matplotlib inline\n",
    "from matplotlib import pyplot as plt\n",
    "fig1 = plt.figure()\n",
    "# plt.scatter(data.loc[:,'Exam1'][mask],data.loc[:,'Exam2'][mask])\n",
    "plt.scatter(data.loc[:,'Exam1'],data.loc[:,'Exam2'])\n",
    "plt.title('Exam1-Exam2')\n",
    "plt.xlabel('Exam1')\n",
    "plt.ylabel('Exam2')\n",
    "plt.show()"
   ]
  },
  {
   "cell_type": "code",
   "execution_count": 15,
   "id": "5540a69c",
   "metadata": {},
   "outputs": [
    {
     "data": {
      "image/png": "[encoded data removed]",
      "text/plain": [
       "<Figure size 432x288 with 1 Axes>"
      ]
     },
     "metadata": {
      "needs_background": "light"
     },
     "output_type": "display_data"
    }
   ],
   "source": [
    "# %matplotlib inline\n",
    "from matplotlib import pyplot as plt\n",
    "fig1 = plt.figure()\n",
    "passed = plt.scatter(data.loc[:,'Exam1'][mask],data.loc[:,'Exam2'][mask])\n",
    "failed = plt.scatter(data.loc[:,'Exam1'][~mask],data.loc[:,'Exam2'][~mask])\n",
    "\n",
    "# plt.scatter(data.loc[:,'Exam1'][],data.loc[:,'Exam2'])\n",
    "plt.title('Exam1-Exam2')\n",
    "plt.xlabel('Exam1')\n",
    "plt.ylabel('Exam2')\n",
    "plt.legend((passed,failed),('passed','failed'))\n",
    "plt.show()"
   ]
  },
  {
   "cell_type": "code",
   "execution_count": null,
   "id": "9c17b612",
   "metadata": {},
   "outputs": [],
   "source": []
  },
  {
   "cell_type": "code",
   "execution_count": 16,
   "id": "a9a10fd9",
   "metadata": {},
   "outputs": [
    {
     "data": {
      "text/plain": [
       "0    34.623660\n",
       "1    30.286711\n",
       "2    35.847409\n",
       "3    60.182599\n",
       "4    79.032736\n",
       "Name: Exam1, dtype: float64"
      ]
     },
     "execution_count": 16,
     "metadata": {},
     "output_type": "execute_result"
    }
   ],
   "source": [
    "X = data.drop(['Pass'],axis = 1)\n",
    "y = data.loc[:,'Pass']\n",
    "x1  = data.loc[:,'Exam1']\n",
    "x2  = data.loc[:,'Exam2']\n",
    "x1.head()"
   ]
  },
  {
   "cell_type": "code",
   "execution_count": 17,
   "id": "fc2b5bee",
   "metadata": {},
   "outputs": [
    {
     "data": {
      "text/html": [
       "<style>#sk-container-id-1 {color: black;background-color: white;}#sk-container-id-1 pre{padding: 0;}#sk-container-id-1 div.sk-toggleable {background-color: white;}#sk-container-id-1 label.sk-toggleable__label {cursor: pointer;display: block;width: 100%;margin-bottom: 0;padding: 0.3em;box-sizing: border-box;text-align: center;}#sk-container-id-1 label.sk-toggleable__label-arrow:before {content: \"▸\";float: left;margin-right: 0.25em;color: #696969;}#sk-container-id-1 label.sk-toggleable__label-arrow:hover:before {color: black;}#sk-container-id-1 div.sk-estimator:hover label.sk-toggleable__label-arrow:before {color: black;}#sk-container-id-1 div.sk-toggleable__content {max-height: 0;max-width: 0;overflow: hidden;text-align: left;background-color: #f0f8ff;}#sk-container-id-1 div.sk-toggleable__content pre {margin: 0.2em;color: black;border-radius: 0.25em;background-color: #f0f8ff;}#sk-container-id-1 input.sk-toggleable__control:checked~div.sk-toggleable__content {max-height: 200px;max-width: 100%;overflow: auto;}#sk-container-id-1 input.sk-toggleable__control:checked~label.sk-toggleable__label-arrow:before {content: \"▾\";}#sk-container-id-1 div.sk-estimator input.sk-toggleable__control:checked~label.sk-toggleable__label {background-color: #d4ebff;}#sk-container-id-1 div.sk-label input.sk-toggleable__control:checked~label.sk-toggleable__label {background-color: #d4ebff;}#sk-container-id-1 input.sk-hidden--visually {border: 0;clip: rect(1px 1px 1px 1px);clip: rect(1px, 1px, 1px, 1px);height: 1px;margin: -1px;overflow: hidden;padding: 0;position: absolute;width: 1px;}#sk-container-id-1 div.sk-estimator {font-family: monospace;background-color: #f0f8ff;border: 1px dotted black;border-radius: 0.25em;box-sizing: border-box;margin-bottom: 0.5em;}#sk-container-id-1 div.sk-estimator:hover {background-color: #d4ebff;}#sk-container-id-1 div.sk-parallel-item::after {content: \"\";width: 100%;border-bottom: 1px solid gray;flex-grow: 1;}#sk-container-id-1 div.sk-label:hover label.sk-toggleable__label {background-color: #d4ebff;}#sk-container-id-1 div.sk-serial::before {content: \"\";position: absolute;border-left: 1px solid gray;box-sizing: border-box;top: 0;bottom: 0;left: 50%;z-index: 0;}#sk-container-id-1 div.sk-serial {display: flex;flex-direction: column;align-items: center;background-color: white;padding-right: 0.2em;padding-left: 0.2em;position: relative;}#sk-container-id-1 div.sk-item {position: relative;z-index: 1;}#sk-container-id-1 div.sk-parallel {display: flex;align-items: stretch;justify-content: center;background-color: white;position: relative;}#sk-container-id-1 div.sk-item::before, #sk-container-id-1 div.sk-parallel-item::before {content: \"\";position: absolute;border-left: 1px solid gray;box-sizing: border-box;top: 0;bottom: 0;left: 50%;z-index: -1;}#sk-container-id-1 div.sk-parallel-item {display: flex;flex-direction: column;z-index: 1;position: relative;background-color: white;}#sk-container-id-1 div.sk-parallel-item:first-child::after {align-self: flex-end;width: 50%;}#sk-container-id-1 div.sk-parallel-item:last-child::after {align-self: flex-start;width: 50%;}#sk-container-id-1 div.sk-parallel-item:only-child::after {width: 0;}#sk-container-id-1 div.sk-dashed-wrapped {border: 1px dashed gray;margin: 0 0.4em 0.5em 0.4em;box-sizing: border-box;padding-bottom: 0.4em;background-color: white;}#sk-container-id-1 div.sk-label label {font-family: monospace;font-weight: bold;display: inline-block;line-height: 1.2em;}#sk-container-id-1 div.sk-label-container {text-align: center;}#sk-container-id-1 div.sk-container {/* jupyter's `normalize.less` sets `[hidden] { display: none; }` but bootstrap.min.css set `[hidden] { display: none !important; }` so we also need the `!important` here to be able to override the default hidden behavior on the sphinx rendered scikit-learn.org. See: https://github.com/scikit-learn/scikit-learn/issues/21755 */display: inline-block !important;position: relative;}#sk-container-id-1 div.sk-text-repr-fallback {display: none;}</style><div id=\"sk-container-id-1\" class=\"sk-top-container\"><div class=\"sk-text-repr-fallback\"><pre>LogisticRegression()</pre><b>In a Jupyter environment, please rerun this cell to show the HTML representation or trust the notebook. <br />On GitHub, the HTML representation is unable to render, please try loading this page with nbviewer.org.</b></div><div class=\"sk-container\" hidden><div class=\"sk-item\"><div class=\"sk-estimator sk-toggleable\"><input class=\"sk-toggleable__control sk-hidden--visually\" id=\"sk-estimator-id-1\" type=\"checkbox\" checked><label for=\"sk-estimator-id-1\" class=\"sk-toggleable__label sk-toggleable__label-arrow\">LogisticRegression</label><div class=\"sk-toggleable__content\"><pre>LogisticRegression()</pre></div></div></div></div></div>"
      ],
      "text/plain": [
       "LogisticRegression()"
      ]
     },
     "execution_count": 17,
     "metadata": {},
     "output_type": "execute_result"
    }
   ],
   "source": [
    "from sklearn.linear_model import LogisticRegression\n",
    "LR = LogisticRegression()\n",
    "LR.fit(X,y)"
   ]
  },
  {
   "cell_type": "code",
   "execution_count": 18,
   "id": "25356a5d",
   "metadata": {},
   "outputs": [
    {
     "name": "stdout",
     "output_type": "stream",
     "text": [
      "[0 0 0 1 1 0 1 0 1 1 1 0 1 1 0 1 0 0 1 1 0 1 0 0 1 1 1 1 0 0 1 1 0 0 0 0 1\n",
      " 1 0 0 1 0 1 1 0 0 1 1 1 1 1 1 1 0 0 0 1 1 1 1 1 0 0 0 0 0 1 0 1 1 0 1 1 1\n",
      " 1 1 1 1 0 1 1 1 1 0 1 1 0 1 1 0 1 1 0 1 1 1 1 1 0 1]\n"
     ]
    }
   ],
   "source": [
    "y_predict = LR.predict(X)\n",
    "print(y_predict)"
   ]
  },
  {
   "cell_type": "code",
   "execution_count": 19,
   "id": "634979d3",
   "metadata": {},
   "outputs": [
    {
     "name": "stdout",
     "output_type": "stream",
     "text": [
      "0.89\n"
     ]
    }
   ],
   "source": [
    "from sklearn.metrics import accuracy_score\n",
    "accuracy = accuracy_score(y,y_predict)\n",
    "print(accuracy)"
   ]
  },
  {
   "cell_type": "code",
   "execution_count": null,
   "id": "c512595a",
   "metadata": {},
   "outputs": [],
   "source": []
  },
  {
   "cell_type": "code",
   "execution_count": 20,
   "id": "8e0d2672",
   "metadata": {},
   "outputs": [
    {
     "name": "stdout",
     "output_type": "stream",
     "text": [
      "[1]\n"
     ]
    },
    {
     "name": "stderr",
     "output_type": "stream",
     "text": [
      "/Users/chinazhouwy/opt/anaconda3/envs/learn_ai/lib/python3.10/site-packages/sklearn/base.py:450: UserWarning: X does not have valid feature names, but LogisticRegression was fitted with feature names\n",
      "  warnings.warn(\n"
     ]
    }
   ],
   "source": [
    "y_test = LR.predict([[70,65]])\n",
    "print(y_test)"
   ]
  },
  {
   "cell_type": "code",
   "execution_count": 21,
   "id": "820f7fdc",
   "metadata": {},
   "outputs": [
    {
     "name": "stdout",
     "output_type": "stream",
     "text": [
      "[-25.05219314] [[0.20535491 0.2005838 ]]\n"
     ]
    }
   ],
   "source": [
    "print(LR.intercept_,LR.coef_)"
   ]
  },
  {
   "cell_type": "code",
   "execution_count": 22,
   "id": "47baa999",
   "metadata": {},
   "outputs": [
    {
     "name": "stdout",
     "output_type": "stream",
     "text": [
      "0.20535491217790391 0.20058380395469058\n"
     ]
    }
   ],
   "source": [
    "print(LR.coef_[0][0],LR.coef_[0][1])"
   ]
  },
  {
   "cell_type": "markdown",
   "id": "3fc8af6d",
   "metadata": {},
   "source": [
    "##  LR.intercept_+LR.coef_[0][0]*x1 + LR.coef_[0][1]*x2 = 0"
   ]
  },
  {
   "cell_type": "code",
   "execution_count": 23,
   "id": "a4536244",
   "metadata": {},
   "outputs": [
    {
     "name": "stdout",
     "output_type": "stream",
     "text": [
      "0     89.449169\n",
      "1     93.889277\n",
      "2     88.196312\n",
      "3     63.282281\n",
      "4     43.983773\n",
      "        ...    \n",
      "95    39.421346\n",
      "96    81.629448\n",
      "97    23.219064\n",
      "98    68.240049\n",
      "99    48.341870\n",
      "Name: Exam1, Length: 100, dtype: float64\n"
     ]
    }
   ],
   "source": [
    "x2_new = -(LR.intercept_+LR.coef_[0][0]*x1)/LR.coef_[0][1]\n",
    "print(x2_new)"
   ]
  },
  {
   "cell_type": "code",
   "execution_count": 24,
   "id": "347de6de",
   "metadata": {},
   "outputs": [
    {
     "data": {
      "image/png": "[encoded data removed]",
      "text/plain": [
       "<Figure size 432x288 with 1 Axes>"
      ]
     },
     "metadata": {
      "needs_background": "light"
     },
     "output_type": "display_data"
    }
   ],
   "source": [
    "from matplotlib import pyplot as plt\n",
    "fig1 = plt.figure()\n",
    "passed = plt.scatter(data.loc[:,'Exam1'][mask],data.loc[:,'Exam2'][mask])\n",
    "failed = plt.scatter(data.loc[:,'Exam1'][~mask],data.loc[:,'Exam2'][~mask])\n",
    "plt.plot(x1,x2_new)\n",
    "# plt.scatter(data.loc[:,'Exam1'],data.loc[:,'Exam2'])\n",
    "plt.title('Exam1-Exam2')\n",
    "plt.xlabel('Exam1')\n",
    "plt.ylabel('Exam2')\n",
    "plt.legend((passed,failed),('passed','failed'))\n",
    "plt.show()"
   ]
  },
  {
   "cell_type": "markdown",
   "id": "f912b89b",
   "metadata": {},
   "source": [
    "# "
   ]
  },
  {
   "cell_type": "markdown",
   "id": "8234f038",
   "metadata": {},
   "source": [
    "## 芯片（二阶线性回归）"
   ]
  },
  {
   "cell_type": "code",
   "execution_count": 25,
   "id": "d0fff968",
   "metadata": {},
   "outputs": [
    {
     "name": "stdout",
     "output_type": "stream",
     "text": [
      "        test1     test2  pass\n",
      "0    0.051267  0.699560     1\n",
      "1   -0.092742  0.684940     1\n",
      "2   -0.213710  0.692250     1\n",
      "3   -0.375000  0.502190     1\n",
      "4    0.183760  0.933480     0\n",
      "..        ...       ...   ...\n",
      "113 -0.720620  0.538740     0\n",
      "114 -0.593890  0.494880     0\n",
      "115 -0.484450  0.999270     0\n",
      "116 -0.006336  0.999270     0\n",
      "117  0.632650 -0.030612     0\n",
      "\n",
      "[118 rows x 3 columns]\n"
     ]
    }
   ],
   "source": [
    "import pandas as pd\n",
    "import numpy as np\n",
    "\n",
    "data = pd.read_csv('chip_test.csv')\n",
    "# data.head()\n",
    "print(data)"
   ]
  },
  {
   "cell_type": "code",
   "execution_count": 26,
   "id": "ddaee95a",
   "metadata": {},
   "outputs": [],
   "source": [
    "mask = data.loc[:,'pass'] == 1"
   ]
  },
  {
   "cell_type": "code",
   "execution_count": 27,
   "id": "5dbcf13a",
   "metadata": {},
   "outputs": [
    {
     "data": {
      "image/png": "[encoded data removed]",
      "text/plain": [
       "<Figure size 432x288 with 1 Axes>"
      ]
     },
     "metadata": {
      "needs_background": "light"
     },
     "output_type": "display_data"
    }
   ],
   "source": [
    "# %matplotlib inline\n",
    "from matplotlib import pyplot as plt\n",
    "fig1 = plt.figure()\n",
    "passed = plt.scatter(data.loc[:,'test1'][mask],data.loc[:,'test2'][mask])\n",
    "failed = plt.scatter(data.loc[:,'test1'][~mask],data.loc[:,'test2'][~mask])\n",
    "\n",
    "# plt.scatter(data.loc[:,'Exam1'][],data.loc[:,'Exam2'])\n",
    "plt.title('test1-test2')\n",
    "plt.xlabel('test1')\n",
    "plt.ylabel('test2')\n",
    "plt.legend((passed,failed),('passed','failed'))\n",
    "plt.show()"
   ]
  },
  {
   "cell_type": "code",
   "execution_count": 30,
   "id": "e98d91da",
   "metadata": {},
   "outputs": [
    {
     "data": {
      "text/plain": [
       "0    0.051267\n",
       "1   -0.092742\n",
       "2   -0.213710\n",
       "3   -0.375000\n",
       "4    0.183760\n",
       "Name: test1, dtype: float64"
      ]
     },
     "execution_count": 30,
     "metadata": {},
     "output_type": "execute_result"
    }
   ],
   "source": [
    "X = data.drop(['pass'],axis = 1)\n",
    "y = data.loc[:,'pass']\n",
    "X1  = data.loc[:,'test1']\n",
    "X2  = data.loc[:,'test2']\n",
    "X1.head()"
   ]
  },
  {
   "cell_type": "markdown",
   "id": "aa467577",
   "metadata": {},
   "source": [
    "##  $\\theta_0 + \\theta_1x_1 + \\theta_2x_2 + \\theta_3x_1^2 + \\theta_4x_2^2 + \\theta_5x_1x_2 = 0$"
   ]
  },
  {
   "cell_type": "code",
   "execution_count": 31,
   "id": "76f5b0b9",
   "metadata": {},
   "outputs": [
    {
     "name": "stdout",
     "output_type": "stream",
     "text": [
      "           X1        X2      X1_2      X2_2     X1_X2\n",
      "0    0.051267  0.699560  0.002628  0.489384  0.035864\n",
      "1   -0.092742  0.684940  0.008601  0.469143 -0.063523\n",
      "2   -0.213710  0.692250  0.045672  0.479210 -0.147941\n",
      "3   -0.375000  0.502190  0.140625  0.252195 -0.188321\n",
      "4    0.183760  0.933480  0.033768  0.871385  0.171536\n",
      "..        ...       ...       ...       ...       ...\n",
      "113 -0.720620  0.538740  0.519293  0.290241 -0.388227\n",
      "114 -0.593890  0.494880  0.352705  0.244906 -0.293904\n",
      "115 -0.484450  0.999270  0.234692  0.998541 -0.484096\n",
      "116 -0.006336  0.999270  0.000040  0.998541 -0.006332\n",
      "117  0.632650 -0.030612  0.400246  0.000937 -0.019367\n",
      "\n",
      "[118 rows x 5 columns]\n"
     ]
    }
   ],
   "source": [
    "X1_2 = X1 * X1\n",
    "X2_2 = X2 * X2\n",
    "X1_X2 = X1 * X2\n",
    "X_new = {'X1':X1,'X2':X2,'X1_2':X1_2,'X2_2':X2_2,'X1_X2':X1_X2}\n",
    "X_new = pd.DataFrame(X_new)\n",
    "print(X_new)"
   ]
  },
  {
   "cell_type": "code",
   "execution_count": 36,
   "id": "d813d698",
   "metadata": {},
   "outputs": [
    {
     "data": {
      "text/html": [
       "<style>#sk-container-id-3 {color: black;background-color: white;}#sk-container-id-3 pre{padding: 0;}#sk-container-id-3 div.sk-toggleable {background-color: white;}#sk-container-id-3 label.sk-toggleable__label {cursor: pointer;display: block;width: 100%;margin-bottom: 0;padding: 0.3em;box-sizing: border-box;text-align: center;}#sk-container-id-3 label.sk-toggleable__label-arrow:before {content: \"▸\";float: left;margin-right: 0.25em;color: #696969;}#sk-container-id-3 label.sk-toggleable__label-arrow:hover:before {color: black;}#sk-container-id-3 div.sk-estimator:hover label.sk-toggleable__label-arrow:before {color: black;}#sk-container-id-3 div.sk-toggleable__content {max-height: 0;max-width: 0;overflow: hidden;text-align: left;background-color: #f0f8ff;}#sk-container-id-3 div.sk-toggleable__content pre {margin: 0.2em;color: black;border-radius: 0.25em;background-color: #f0f8ff;}#sk-container-id-3 input.sk-toggleable__control:checked~div.sk-toggleable__content {max-height: 200px;max-width: 100%;overflow: auto;}#sk-container-id-3 input.sk-toggleable__control:checked~label.sk-toggleable__label-arrow:before {content: \"▾\";}#sk-container-id-3 div.sk-estimator input.sk-toggleable__control:checked~label.sk-toggleable__label {background-color: #d4ebff;}#sk-container-id-3 div.sk-label input.sk-toggleable__control:checked~label.sk-toggleable__label {background-color: #d4ebff;}#sk-container-id-3 input.sk-hidden--visually {border: 0;clip: rect(1px 1px 1px 1px);clip: rect(1px, 1px, 1px, 1px);height: 1px;margin: -1px;overflow: hidden;padding: 0;position: absolute;width: 1px;}#sk-container-id-3 div.sk-estimator {font-family: monospace;background-color: #f0f8ff;border: 1px dotted black;border-radius: 0.25em;box-sizing: border-box;margin-bottom: 0.5em;}#sk-container-id-3 div.sk-estimator:hover {background-color: #d4ebff;}#sk-container-id-3 div.sk-parallel-item::after {content: \"\";width: 100%;border-bottom: 1px solid gray;flex-grow: 1;}#sk-container-id-3 div.sk-label:hover label.sk-toggleable__label {background-color: #d4ebff;}#sk-container-id-3 div.sk-serial::before {content: \"\";position: absolute;border-left: 1px solid gray;box-sizing: border-box;top: 0;bottom: 0;left: 50%;z-index: 0;}#sk-container-id-3 div.sk-serial {display: flex;flex-direction: column;align-items: center;background-color: white;padding-right: 0.2em;padding-left: 0.2em;position: relative;}#sk-container-id-3 div.sk-item {position: relative;z-index: 1;}#sk-container-id-3 div.sk-parallel {display: flex;align-items: stretch;justify-content: center;background-color: white;position: relative;}#sk-container-id-3 div.sk-item::before, #sk-container-id-3 div.sk-parallel-item::before {content: \"\";position: absolute;border-left: 1px solid gray;box-sizing: border-box;top: 0;bottom: 0;left: 50%;z-index: -1;}#sk-container-id-3 div.sk-parallel-item {display: flex;flex-direction: column;z-index: 1;position: relative;background-color: white;}#sk-container-id-3 div.sk-parallel-item:first-child::after {align-self: flex-end;width: 50%;}#sk-container-id-3 div.sk-parallel-item:last-child::after {align-self: flex-start;width: 50%;}#sk-container-id-3 div.sk-parallel-item:only-child::after {width: 0;}#sk-container-id-3 div.sk-dashed-wrapped {border: 1px dashed gray;margin: 0 0.4em 0.5em 0.4em;box-sizing: border-box;padding-bottom: 0.4em;background-color: white;}#sk-container-id-3 div.sk-label label {font-family: monospace;font-weight: bold;display: inline-block;line-height: 1.2em;}#sk-container-id-3 div.sk-label-container {text-align: center;}#sk-container-id-3 div.sk-container {/* jupyter's `normalize.less` sets `[hidden] { display: none; }` but bootstrap.min.css set `[hidden] { display: none !important; }` so we also need the `!important` here to be able to override the default hidden behavior on the sphinx rendered scikit-learn.org. See: https://github.com/scikit-learn/scikit-learn/issues/21755 */display: inline-block !important;position: relative;}#sk-container-id-3 div.sk-text-repr-fallback {display: none;}</style><div id=\"sk-container-id-3\" class=\"sk-top-container\"><div class=\"sk-text-repr-fallback\"><pre>LogisticRegression()</pre><b>In a Jupyter environment, please rerun this cell to show the HTML representation or trust the notebook. <br />On GitHub, the HTML representation is unable to render, please try loading this page with nbviewer.org.</b></div><div class=\"sk-container\" hidden><div class=\"sk-item\"><div class=\"sk-estimator sk-toggleable\"><input class=\"sk-toggleable__control sk-hidden--visually\" id=\"sk-estimator-id-3\" type=\"checkbox\" checked><label for=\"sk-estimator-id-3\" class=\"sk-toggleable__label sk-toggleable__label-arrow\">LogisticRegression</label><div class=\"sk-toggleable__content\"><pre>LogisticRegression()</pre></div></div></div></div></div>"
      ],
      "text/plain": [
       "LogisticRegression()"
      ]
     },
     "execution_count": 36,
     "metadata": {},
     "output_type": "execute_result"
    }
   ],
   "source": [
    "from sklearn.linear_model import LogisticRegression\n",
    "LR2 = LogisticRegression()\n",
    "LR2.fit(X_new,y)\n"
   ]
  },
  {
   "cell_type": "code",
   "execution_count": 37,
   "id": "a8b9e754",
   "metadata": {},
   "outputs": [
    {
     "name": "stdout",
     "output_type": "stream",
     "text": [
      "[1 1 1 1 0 1 1 1 1 1 1 1 1 0 0 1 0 1 1 1 1 1 1 0 1 1 1 1 1 0 0 1 1 0 1 1 1\n",
      " 1 1 1 1 1 1 1 1 1 1 1 1 0 1 0 1 1 1 1 1 1 1 1 1 0 0 0 0 0 0 0 0 0 0 0 0 0\n",
      " 0 0 1 0 0 0 1 1 0 1 0 0 0 0 1 0 0 0 1 0 0 0 0 0 0 0 0 0 0 0 1 0 1 1 0 0 0\n",
      " 0 0 0 1 0 0 1]\n",
      "0.8135593220338984\n"
     ]
    }
   ],
   "source": [
    "from sklearn.metrics import accuracy_score\n",
    "y2_predict = LR2.predict(X_new)\n",
    "print(y2_predict)\n",
    "accuracy_2 = accuracy_score(y,y2_predict)\n",
    "print(accuracy_2)"
   ]
  },
  {
   "cell_type": "code",
   "execution_count": 40,
   "id": "6fcc83bd",
   "metadata": {},
   "outputs": [
    {
     "name": "stdout",
     "output_type": "stream",
     "text": [
      "[array([nan]), array([nan]), array([nan]), array([nan]), array([nan]), array([nan]), array([nan]), array([nan]), array([0.1212617]), array([0.04679448]), array([0.02697935]), array([0.00872189]), array([-0.00830576]), array([-0.00830576]), array([-0.11718731]), array([-0.16040224]), array([-0.18016521]), array([-0.18965258]), array([-0.21671004]), array([-0.22530078]), array([-0.23369452]), array([-0.2499261]), array([-0.28761583]), array([-0.30846849]), array([-0.32171919]), array([-0.32816104]), array([-0.33448523]), array([-0.34069505]), array([-0.35278365]), array([-0.35866807]), array([-0.37013014]), array([-0.42186137]), array([-0.42656594]), array([-0.43119936]), array([-0.43574686]), array([-0.44021779]), array([-0.45318277]), array([-0.47336128]), array([-0.47336128]), array([-0.48465118]), array([-0.48828317]), array([-0.49185073]), array([-0.49185073]), array([-0.51193977]), array([-0.51193977]), array([-0.5181489]), array([-0.52412149]), array([-0.52986615]), array([-0.52986615]), array([-0.53264971]), array([-0.54066023]), array([-0.54572074]), array([-0.55055962]), array([-0.55055962]), array([-0.55518131]), array([-0.56170859]), array([-0.56775529]), array([-0.56775529]), array([-0.58002265]), array([-0.58002265]), array([-0.58588805]), array([-0.59313744]), array([-0.59416537]), array([-0.59514154]), array([-0.59852963]), array([-0.60052615]), array([-0.60280757]), array([-0.60310565]), array([-0.60354216]), array([-0.60379456]), array([-0.60355793]), array([-0.60282483]), array([-0.60105947]), array([-0.60105947]), array([-0.60047489]), array([-0.59135016]), array([-0.59135016]), array([-0.59009769]), array([-0.5887809]), array([-0.58285568]), array([-0.58285568]), array([-0.57390312]), array([-0.56073894]), array([-0.55572236]), array([-0.53219481]), array([-0.52181028]), array([-0.51814159]), array([-0.51814159]), array([-0.50647589]), array([-0.48925514]), array([-0.47987024]), array([-0.46991909]), array([-0.45383618]), array([-0.42349291]), array([-0.40276684]), array([-0.38769565]), array([-0.3714656]), array([-0.353902]), array([-0.34523055]), array([-0.33477608]), array([-0.33477608]), array([-0.32451646]), array([-0.26416907]), array([-0.26416907]), array([nan]), array([nan]), array([nan]), array([nan]), array([nan]), array([nan]), array([nan]), array([nan]), array([nan]), array([nan]), array([nan]), array([nan]), array([nan]), array([nan])] [array([nan]), array([nan]), array([nan]), array([nan]), array([nan]), array([nan]), array([nan]), array([nan]), array([0.41115349]), array([0.47870382]), array([0.49620931]), array([0.51216114]), array([0.52688317]), array([0.52688317]), array([0.61731967]), array([0.65131207]), array([0.66646378]), array([0.67364552]), array([0.69378609]), array([0.7000712]), array([0.70615931]), array([0.71777963]), array([0.74393719]), array([0.75787296]), array([0.76651241]), array([0.77064862]), array([0.77466719]), array([0.77857137]), array([0.78604871]), array([0.7896275]), array([0.79647831]), array([0.82515323]), array([0.82755217]), array([0.82987596]), array([0.83211783]), array([0.83428312]), array([0.84033121]), array([0.84898157]), array([0.84898157]), array([0.85335458]), array([0.85468094]), array([0.85594286]), array([0.85594286]), array([0.86219812]), array([0.86219812]), array([0.86379599]), array([0.86515732]), array([0.86628671]), array([0.86628671]), array([0.86676464]), array([0.86785827]), array([0.86830752]), array([0.86853594]), array([0.86853594]), array([0.86854596]), array([0.86815595]), array([0.86728536]), array([0.86728536]), array([0.86341226]), array([0.86341226]), array([0.86005458]), array([0.85346939]), array([0.85219128]), array([0.85086182]), array([0.84502699]), array([0.84010621]), array([0.83085948]), array([0.82885193]), array([0.82467718]), array([0.81801268]), array([0.81085516]), array([0.80320517]), array([0.79221728]), array([0.79221728]), array([0.78932708]), array([0.75714603]), array([0.75714603]), array([0.75358794]), array([0.74996551]), array([0.73481778]), array([0.73481778]), array([0.71433305]), array([0.68733509]), array([0.67770724]), array([0.63573465]), array([0.61843322]), array([0.61245891]), array([0.61245891]), array([0.59387632]), array([0.56742904]), array([0.55343288]), array([0.53887047]), array([0.51587067]), array([0.47399923]), array([0.44635628]), array([0.42667382]), array([0.40583252]), array([0.38365766]), array([0.37284469]), array([0.35992047]), array([0.35992047]), array([0.34735121]), array([0.27547567]), array([0.27547567]), array([nan]), array([nan]), array([nan]), array([nan]), array([nan]), array([nan]), array([nan]), array([nan]), array([nan]), array([nan]), array([nan]), array([nan]), array([nan]), array([nan])]\n"
     ]
    },
    {
     "name": "stderr",
     "output_type": "stream",
     "text": [
      "/var/folders/84/g8qpsvld3294n39vyj75r6qm0000gn/T/ipykernel_97920/3044381815.py:12: RuntimeWarning: invalid value encountered in sqrt\n",
      "  x2_new_bound_1 = (-b + np.sqrt(b*b - 4*a*c))/(2*a)\n",
      "/var/folders/84/g8qpsvld3294n39vyj75r6qm0000gn/T/ipykernel_97920/3044381815.py:13: RuntimeWarning: invalid value encountered in sqrt\n",
      "  x2_new_bound_2 = (-b - np.sqrt(b*b - 4*a*c))/(2*a)\n"
     ]
    }
   ],
   "source": [
    "X1_new = X1.sort_values()\n",
    "theta0 = LR2.intercept_\n",
    "theta1,theta2,theta3,theta4,theta5 = LR2.coef_[0][0], LR2.coef_[0][1],LR2.coef_[0][2],LR2.coef_[0][3],LR2.coef_[0][4]\n",
    "a = theta4\n",
    "b = theta5 * X1_new + theta2\n",
    "c = theta0 + theta1 * X1_new + theta3 * X1_new * X1_new\n",
    "\n",
    "def f(x):\n",
    "    a = theta4\n",
    "    b = theta5 * x + theta2\n",
    "    c = theta0 + theta1 * x + theta3 * x * x\n",
    "    x2_new_bound_1 = (-b + np.sqrt(b*b - 4*a*c))/(2*a)\n",
    "    x2_new_bound_2 = (-b - np.sqrt(b*b - 4*a*c))/(2*a)\n",
    "    return x2_new_bound_1,x2_new_bound_2\n",
    "\n",
    "x2_new_bound1 = []\n",
    "x2_new_bound2 = []\n",
    "for x in X1_new:\n",
    "    x2_new_bound1.append(f(x)[0])\n",
    "    x2_new_bound2.append(f(x)[1])\n",
    "print(x2_new_bound1,x2_new_bound2)"
   ]
  },
  {
   "cell_type": "code",
   "execution_count": 41,
   "id": "0f1f1a3b",
   "metadata": {},
   "outputs": [
    {
     "data": {
      "image/png": "[encoded data removed]",
      "text/plain": [
       "<Figure size 432x288 with 1 Axes>"
      ]
     },
     "metadata": {
      "needs_background": "light"
     },
     "output_type": "display_data"
    }
   ],
   "source": [
    "# %matplotlib inline\n",
    "from matplotlib import pyplot as plt\n",
    "fig1 = plt.figure()\n",
    "passed = plt.scatter(data.loc[:,'test1'][mask],data.loc[:,'test2'][mask])\n",
    "failed = plt.scatter(data.loc[:,'test1'][~mask],data.loc[:,'test2'][~mask])\n",
    "plt.plot(X1_new,x2_new_bound1)\n",
    "plt.plot(X1_new,x2_new_bound2)\n",
    "# plt.scatter(data.loc[:,'Exam1'][],data.loc[:,'Exam2'])\n",
    "plt.title('test1-test2')\n",
    "plt.xlabel('test1')\n",
    "plt.ylabel('test2')\n",
    "plt.legend((passed,failed),('passed','failed'))\n",
    "plt.show()"
   ]
  },
  {
   "cell_type": "code",
   "execution_count": 48,
   "id": "83c99744",
   "metadata": {},
   "outputs": [
    {
     "name": "stderr",
     "output_type": "stream",
     "text": [
      "/var/folders/84/g8qpsvld3294n39vyj75r6qm0000gn/T/ipykernel_97920/3044381815.py:12: RuntimeWarning: invalid value encountered in sqrt\n",
      "  x2_new_bound_1 = (-b + np.sqrt(b*b - 4*a*c))/(2*a)\n",
      "/var/folders/84/g8qpsvld3294n39vyj75r6qm0000gn/T/ipykernel_97920/3044381815.py:13: RuntimeWarning: invalid value encountered in sqrt\n",
      "  x2_new_bound_2 = (-b - np.sqrt(b*b - 4*a*c))/(2*a)\n"
     ]
    }
   ],
   "source": [
    "x1_range = [-0.9 + x/10000 for x in range(0,190000)]\n",
    "x1_range = np.array(x1_range)\n",
    "\n",
    "x2_new_bound1 = []\n",
    "x2_new_bound2 = []\n",
    "for x in x1_range:\n",
    "    x2_new_bound1.append(f(x)[0])\n",
    "    x2_new_bound2.append(f(x)[1])\n",
    "# print(x2_new_bound1,x2_new_bound2)"
   ]
  },
  {
   "cell_type": "code",
   "execution_count": 50,
   "id": "7f1fb853",
   "metadata": {},
   "outputs": [
    {
     "data": {
      "image/png": "[encoded data removed]",
      "text/plain": [
       "<Figure size 432x288 with 1 Axes>"
      ]
     },
     "metadata": {
      "needs_background": "light"
     },
     "output_type": "display_data"
    }
   ],
   "source": [
    "# %matplotlib inline\n",
    "from matplotlib import pyplot as plt\n",
    "fig1 = plt.figure()\n",
    "passed = plt.scatter(data.loc[:,'test1'][mask],data.loc[:,'test2'][mask])\n",
    "failed = plt.scatter(data.loc[:,'test1'][~mask],data.loc[:,'test2'][~mask])\n",
    "plt.plot(x1_range,x2_new_bound1)\n",
    "plt.plot(x1_range,x2_new_bound2)\n",
    "# plt.scatter(data.loc[:,'Exam1'][],data.loc[:,'Exam2'])\n",
    "plt.title('test1-test2')\n",
    "plt.xlabel('test1')\n",
    "plt.ylabel('test2')\n",
    "plt.legend((passed,failed),('passed','failed'))\n",
    "plt.show()"
   ]
  }
 ],
 "metadata": {
  "interpreter": {
   "hash": "5f7395a39ead5589de0707de4fa68aa7367263fb8067d34a00af93fde3dc777b"
  },
  "kernelspec": {
   "display_name": "Python 3.10.4 ('learn_ai')",
   "language": "python",
   "name": "python3"
  },
  "language_info": {
   "codemirror_mode": {
    "name": "ipython",
    "version": 3
   },
   "file_extension": ".py",
   "mimetype": "text/x-python",
   "name": "python",
   "nbconvert_exporter": "python",
   "pygments_lexer": "ipython3",
   "version": "3.10.4"
  }
 },
 "nbformat": 4,
 "nbformat_minor": 5
}
